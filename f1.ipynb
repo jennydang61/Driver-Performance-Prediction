{
 "cells": [
  {
   "cell_type": "markdown",
   "metadata": {},
   "source": [
    "1. Extract"
   ]
  },
  {
   "cell_type": "code",
   "execution_count": null,
   "metadata": {},
   "outputs": [],
   "source": [
    "# activate .venv environment\n",
    "# windows: .\\venv\\Scripts\\activate\n",
    "# mac: source .venv/bin/activate\n",
    "# then pip install kaggle, pip install pyspark and pip install findspark inside .venv\n",
    "# move kaggle.json file into ~/.kaggle\n",
    "# then you can run data\n",
    "\n",
    "import kaggle\n",
    "from pyspark.sql import SparkSession\n",
    "import findspark\n",
    "findspark.init()\n",
    "findspark.find()\n",
    "\n",
    "dataset = \"rohanrao/formula-1-world-championship-1950-2020\"\n",
    "\n",
    "kaggle.api.dataset_download_files(dataset, path='./', unzip=True)\n",
    "\n",
    "print(f\"Dataset {dataset} downloaded successfully!\")\n",
    "\n",
    " # create spark session\n",
    "spark = SparkSession.builder.master(\"local\").appName(\"Driver_Performance_Prediction\").getOrCreate()"
   ]
  },
  {
   "cell_type": "code",
   "execution_count": null,
   "metadata": {},
   "outputs": [],
   "source": [
    "results = \"results.csv\"\n",
    "qualifying = \"qualifying.csv\"\n",
    "lap_times = \"lap_times.csv\"\n",
    "pit_stops = \"pit_stops.csv\"\n",
    "driver_standings = \"driver_standings.csv\"\n",
    "races = \"races.csv\"\n",
    "constructors = \"constructors.csv\"\n",
    "circuits = \"circuits.csv\"\n",
    "\n",
    "result_df = spark.read.csv(results, header=True, inferSchema=True)\n",
    "result_df.show()"
   ]
  },
  {
   "cell_type": "code",
   "execution_count": null,
   "metadata": {},
   "outputs": [],
   "source": [
    "qualifying_df = spark.read.csv(qualifying, header=True, inferSchema=True)\n",
    "qualifying_df.show()"
   ]
  },
  {
   "cell_type": "code",
   "execution_count": null,
   "metadata": {},
   "outputs": [],
   "source": [
    "lap_times_df = spark.read.csv(lap_times, header=True, inferSchema=True)\n",
    "lap_times_df.show()"
   ]
  },
  {
   "cell_type": "code",
   "execution_count": null,
   "metadata": {},
   "outputs": [],
   "source": [
    "pit_stops_df = spark.read.csv(pit_stops, header=True, inferSchema=True)\n",
    "pit_stops_df.show()"
   ]
  },
  {
   "cell_type": "code",
   "execution_count": null,
   "metadata": {},
   "outputs": [],
   "source": [
    "driver_standings_df = spark.read.csv(driver_standings, header=True, inferSchema=True)\n",
    "driver_standings_df.show()"
   ]
  },
  {
   "cell_type": "code",
   "execution_count": null,
   "metadata": {},
   "outputs": [],
   "source": [
    "races_df = spark.read.csv(races, header=True, inferSchema=True)\n",
    "races_df.show()"
   ]
  },
  {
   "cell_type": "code",
   "execution_count": null,
   "metadata": {},
   "outputs": [],
   "source": [
    "constructors_df = spark.read.csv(constructors, header=True, inferSchema=True)\n",
    "constructors_df.show()"
   ]
  },
  {
   "cell_type": "code",
   "execution_count": null,
   "metadata": {},
   "outputs": [],
   "source": [
    "circuits_df = spark.read.csv(circuits, header=True, inferSchema=True)\n",
    "circuits_df.show()"
   ]
  },
  {
   "cell_type": "markdown",
   "metadata": {},
   "source": [
    "2. Load"
   ]
  },
  {
   "cell_type": "code",
   "execution_count": null,
   "metadata": {},
   "outputs": [],
   "source": []
  }
 ],
 "metadata": {
  "kernelspec": {
   "display_name": ".venv",
   "language": "python",
   "name": "python3"
  },
  "language_info": {
   "codemirror_mode": {
    "name": "ipython",
    "version": 3
   },
   "file_extension": ".py",
   "mimetype": "text/x-python",
   "name": "python",
   "nbconvert_exporter": "python",
   "pygments_lexer": "ipython3",
   "version": "3.12.5"
  }
 },
 "nbformat": 4,
 "nbformat_minor": 2
}
