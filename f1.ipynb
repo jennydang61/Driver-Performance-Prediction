{
 "cells": [
  {
   "cell_type": "code",
   "execution_count": 7,
   "metadata": {},
   "outputs": [
    {
     "name": "stdout",
     "output_type": "stream",
     "text": [
      "Dataset URL: https://www.kaggle.com/datasets/rohanrao/formula-1-world-championship-1950-2020\n",
      "Dataset rohanrao/formula-1-world-championship-1950-2020 downloaded successfully!\n"
     ]
    }
   ],
   "source": [
    "# activate .venv environment\n",
    "# windows: .\\venv\\Scripts\\activate\n",
    "# mac: source .venv/bin/activate\n",
    "# then pip install kaggle and pip install pyspark inside .venv\n",
    "# move kaggle.json file into ~/.kaggle\n",
    "# then you can run data\n",
    "\n",
    "import kaggle\n",
    "from pyspark.sql import SparkSession\n",
    "\n",
    "dataset = \"rohanrao/formula-1-world-championship-1950-2020\"\n",
    "\n",
    "kaggle.api.dataset_download_files(dataset, path='./', unzip=True)\n",
    "\n",
    "print(f\"Dataset {dataset} downloaded successfully!\")\n"
   ]
  }
 ],
 "metadata": {
  "kernelspec": {
   "display_name": ".venv",
   "language": "python",
   "name": "python3"
  },
  "language_info": {
   "codemirror_mode": {
    "name": "ipython",
    "version": 3
   },
   "file_extension": ".py",
   "mimetype": "text/x-python",
   "name": "python",
   "nbconvert_exporter": "python",
   "pygments_lexer": "ipython3",
   "version": "3.12.5"
  }
 },
 "nbformat": 4,
 "nbformat_minor": 2
}
